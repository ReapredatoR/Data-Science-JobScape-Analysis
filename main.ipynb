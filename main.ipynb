{
 "cells": [
  {
   "cell_type": "markdown",
   "metadata": {},
   "source": [
    "Importing required libraries "
   ]
  },
  {
   "cell_type": "code",
   "execution_count": 15,
   "metadata": {},
   "outputs": [],
   "source": [
    "import pandas as pd\n",
    "import matplotlib.pyplot as plt\n",
    "import seaborn as sns\n",
    "import numpy as np "
   ]
  },
  {
   "cell_type": "markdown",
   "metadata": {},
   "source": [
    "Loading the dataset"
   ]
  },
  {
   "cell_type": "code",
   "execution_count": 16,
   "metadata": {},
   "outputs": [],
   "source": [
    "job_data = pd.read_csv('Data/Dataset.csv')"
   ]
  },
  {
   "cell_type": "markdown",
   "metadata": {},
   "source": [
    "Displaying basic information about the dataset"
   ]
  },
  {
   "cell_type": "code",
   "execution_count": 17,
   "metadata": {},
   "outputs": [
    {
     "name": "stdout",
     "output_type": "stream",
     "text": [
      "<class 'pandas.core.frame.DataFrame'>\n",
      "RangeIndex: 9355 entries, 0 to 9354\n",
      "Data columns (total 12 columns):\n",
      " #   Column              Non-Null Count  Dtype \n",
      "---  ------              --------------  ----- \n",
      " 0   work_year           9355 non-null   int64 \n",
      " 1   job_title           9355 non-null   object\n",
      " 2   job_category        9355 non-null   object\n",
      " 3   salary_currency     9355 non-null   object\n",
      " 4   salary              9355 non-null   int64 \n",
      " 5   salary_in_usd       9355 non-null   int64 \n",
      " 6   employee_residence  9355 non-null   object\n",
      " 7   experience_level    9355 non-null   object\n",
      " 8   employment_type     9355 non-null   object\n",
      " 9   work_setting        9355 non-null   object\n",
      " 10  company_location    9355 non-null   object\n",
      " 11  company_size        9355 non-null   object\n",
      "dtypes: int64(3), object(9)\n",
      "memory usage: 877.2+ KB\n",
      "None\n"
     ]
    }
   ],
   "source": [
    "print(job_data.info())"
   ]
  },
  {
   "cell_type": "code",
   "execution_count": 18,
   "metadata": {},
   "outputs": [
    {
     "name": "stdout",
     "output_type": "stream",
     "text": [
      "   work_year                    job_title                    job_category  \\\n",
      "0       2023         Data DevOps Engineer                Data Engineering   \n",
      "1       2023               Data Architect  Data Architecture and Modeling   \n",
      "2       2023               Data Architect  Data Architecture and Modeling   \n",
      "3       2023               Data Scientist       Data Science and Research   \n",
      "4       2023               Data Scientist       Data Science and Research   \n",
      "5       2023               Data Scientist       Data Science and Research   \n",
      "6       2023               Data Scientist       Data Science and Research   \n",
      "7       2023  Machine Learning Researcher         Machine Learning and AI   \n",
      "8       2023  Machine Learning Researcher         Machine Learning and AI   \n",
      "9       2023                Data Engineer                Data Engineering   \n",
      "\n",
      "  salary_currency  salary  salary_in_usd employee_residence experience_level  \\\n",
      "0             EUR   88000          95012            Germany        Mid-level   \n",
      "1             USD  186000         186000      United States           Senior   \n",
      "2             USD   81800          81800      United States           Senior   \n",
      "3             USD  212000         212000      United States           Senior   \n",
      "4             USD   93300          93300      United States           Senior   \n",
      "5             USD  130000         130000      United States           Senior   \n",
      "6             USD  100000         100000      United States           Senior   \n",
      "7             USD  224400         224400      United States        Mid-level   \n",
      "8             USD  138700         138700      United States        Mid-level   \n",
      "9             USD  210000         210000      United States        Executive   \n",
      "\n",
      "  employment_type work_setting company_location company_size  \n",
      "0       Full-time       Hybrid          Germany            L  \n",
      "1       Full-time    In-person    United States            M  \n",
      "2       Full-time    In-person    United States            M  \n",
      "3       Full-time    In-person    United States            M  \n",
      "4       Full-time    In-person    United States            M  \n",
      "5       Full-time       Remote    United States            M  \n",
      "6       Full-time       Remote    United States            M  \n",
      "7       Full-time    In-person    United States            M  \n",
      "8       Full-time    In-person    United States            M  \n",
      "9       Full-time       Remote    United States            M  \n"
     ]
    }
   ],
   "source": [
    "print(job_data.head(10))"
   ]
  }
 ],
 "metadata": {
  "kernelspec": {
   "display_name": "Python 3",
   "language": "python",
   "name": "python3"
  },
  "language_info": {
   "codemirror_mode": {
    "name": "ipython",
    "version": 3
   },
   "file_extension": ".py",
   "mimetype": "text/x-python",
   "name": "python",
   "nbconvert_exporter": "python",
   "pygments_lexer": "ipython3",
   "version": "3.11.6"
  }
 },
 "nbformat": 4,
 "nbformat_minor": 2
}
