{
 "cells": [
  {
   "cell_type": "markdown",
   "metadata": {},
   "source": [
    "Importing required libraries "
   ]
  },
  {
   "cell_type": "code",
   "execution_count": 39,
   "metadata": {},
   "outputs": [],
   "source": [
    "import pandas as pd\n",
    "import matplotlib.pyplot as plt\n",
    "import seaborn as sns\n",
    "import numpy as np "
   ]
  },
  {
   "cell_type": "markdown",
   "metadata": {},
   "source": [
    "Loading the dataset"
   ]
  },
  {
   "cell_type": "code",
   "execution_count": 40,
   "metadata": {},
   "outputs": [],
   "source": [
    "job_data = pd.read_csv('Data/Dataset.csv')"
   ]
  },
  {
   "cell_type": "markdown",
   "metadata": {},
   "source": [
    "Displaying basic information about the dataset"
   ]
  },
  {
   "cell_type": "code",
   "execution_count": 41,
   "metadata": {},
   "outputs": [
    {
     "name": "stdout",
     "output_type": "stream",
     "text": [
      "<class 'pandas.core.frame.DataFrame'>\n",
      "RangeIndex: 9355 entries, 0 to 9354\n",
      "Data columns (total 12 columns):\n",
      " #   Column              Non-Null Count  Dtype \n",
      "---  ------              --------------  ----- \n",
      " 0   work_year           9355 non-null   int64 \n",
      " 1   job_title           9355 non-null   object\n",
      " 2   job_category        9355 non-null   object\n",
      " 3   salary_currency     9355 non-null   object\n",
      " 4   salary              9355 non-null   int64 \n",
      " 5   salary_in_usd       9355 non-null   int64 \n",
      " 6   employee_residence  9355 non-null   object\n",
      " 7   experience_level    9355 non-null   object\n",
      " 8   employment_type     9355 non-null   object\n",
      " 9   work_setting        9355 non-null   object\n",
      " 10  company_location    9355 non-null   object\n",
      " 11  company_size        9355 non-null   object\n",
      "dtypes: int64(3), object(9)\n",
      "memory usage: 877.2+ KB\n",
      "None\n"
     ]
    }
   ],
   "source": [
    "print(job_data.info())"
   ]
  },
  {
   "cell_type": "code",
   "execution_count": 42,
   "metadata": {},
   "outputs": [
    {
     "name": "stdout",
     "output_type": "stream",
     "text": [
      "   work_year                    job_title                    job_category  \\\n",
      "0       2023         Data DevOps Engineer                Data Engineering   \n",
      "1       2023               Data Architect  Data Architecture and Modeling   \n",
      "2       2023               Data Architect  Data Architecture and Modeling   \n",
      "3       2023               Data Scientist       Data Science and Research   \n",
      "4       2023               Data Scientist       Data Science and Research   \n",
      "5       2023               Data Scientist       Data Science and Research   \n",
      "6       2023               Data Scientist       Data Science and Research   \n",
      "7       2023  Machine Learning Researcher         Machine Learning and AI   \n",
      "8       2023  Machine Learning Researcher         Machine Learning and AI   \n",
      "9       2023                Data Engineer                Data Engineering   \n",
      "\n",
      "  salary_currency  salary  salary_in_usd employee_residence experience_level  \\\n",
      "0             EUR   88000          95012            Germany        Mid-level   \n",
      "1             USD  186000         186000      United States           Senior   \n",
      "2             USD   81800          81800      United States           Senior   \n",
      "3             USD  212000         212000      United States           Senior   \n",
      "4             USD   93300          93300      United States           Senior   \n",
      "5             USD  130000         130000      United States           Senior   \n",
      "6             USD  100000         100000      United States           Senior   \n",
      "7             USD  224400         224400      United States        Mid-level   \n",
      "8             USD  138700         138700      United States        Mid-level   \n",
      "9             USD  210000         210000      United States        Executive   \n",
      "\n",
      "  employment_type work_setting company_location company_size  \n",
      "0       Full-time       Hybrid          Germany            L  \n",
      "1       Full-time    In-person    United States            M  \n",
      "2       Full-time    In-person    United States            M  \n",
      "3       Full-time    In-person    United States            M  \n",
      "4       Full-time    In-person    United States            M  \n",
      "5       Full-time       Remote    United States            M  \n",
      "6       Full-time       Remote    United States            M  \n",
      "7       Full-time    In-person    United States            M  \n",
      "8       Full-time    In-person    United States            M  \n",
      "9       Full-time       Remote    United States            M  \n"
     ]
    }
   ],
   "source": [
    "print(job_data.head(10))"
   ]
  },
  {
   "cell_type": "markdown",
   "metadata": {},
   "source": [
    "Data cleaning - Missing Values"
   ]
  },
  {
   "cell_type": "code",
   "execution_count": 43,
   "metadata": {},
   "outputs": [
    {
     "name": "stdout",
     "output_type": "stream",
     "text": [
      "work_year             0\n",
      "job_title             0\n",
      "job_category          0\n",
      "salary_currency       0\n",
      "salary                0\n",
      "salary_in_usd         0\n",
      "employee_residence    0\n",
      "experience_level      0\n",
      "employment_type       0\n",
      "work_setting          0\n",
      "company_location      0\n",
      "company_size          0\n",
      "dtype: int64\n"
     ]
    }
   ],
   "source": [
    "print(job_data.isnull().sum())"
   ]
  },
  {
   "cell_type": "markdown",
   "metadata": {},
   "source": [
    "Data cleaning - Checking Duplicates and drop duplicate rows"
   ]
  },
  {
   "cell_type": "code",
   "execution_count": 44,
   "metadata": {},
   "outputs": [
    {
     "name": "stdout",
     "output_type": "stream",
     "text": [
      "Number of duplicate rows: 4014\n"
     ]
    }
   ],
   "source": [
    "print(\"Number of duplicate rows:\", job_data.duplicated().sum())\n",
    "job_data.drop_duplicates(inplace=True)"
   ]
  },
  {
   "cell_type": "code",
   "execution_count": 45,
   "metadata": {},
   "outputs": [
    {
     "name": "stdout",
     "output_type": "stream",
     "text": [
      "<class 'pandas.core.frame.DataFrame'>\n",
      "Index: 5341 entries, 0 to 9354\n",
      "Data columns (total 12 columns):\n",
      " #   Column              Non-Null Count  Dtype \n",
      "---  ------              --------------  ----- \n",
      " 0   work_year           5341 non-null   int64 \n",
      " 1   job_title           5341 non-null   object\n",
      " 2   job_category        5341 non-null   object\n",
      " 3   salary_currency     5341 non-null   object\n",
      " 4   salary              5341 non-null   int64 \n",
      " 5   salary_in_usd       5341 non-null   int64 \n",
      " 6   employee_residence  5341 non-null   object\n",
      " 7   experience_level    5341 non-null   object\n",
      " 8   employment_type     5341 non-null   object\n",
      " 9   work_setting        5341 non-null   object\n",
      " 10  company_location    5341 non-null   object\n",
      " 11  company_size        5341 non-null   object\n",
      "dtypes: int64(3), object(9)\n",
      "memory usage: 542.4+ KB\n",
      "None\n"
     ]
    }
   ],
   "source": [
    "print(job_data.info())"
   ]
  },
  {
   "cell_type": "markdown",
   "metadata": {},
   "source": [
    "Before : 9355 entries, 0 to 9354\n",
    "Data columns (total 12 columns)\n",
    "\n",
    "After: 5341 entries, 0 to 9354\n",
    "Data columns (total 12 columns)\n",
    "\n",
    "Number of duplicate rows Removed: 4014"
   ]
  },
  {
   "cell_type": "markdown",
   "metadata": {},
   "source": [
    "Descriptive statistics"
   ]
  },
  {
   "cell_type": "code",
   "execution_count": 46,
   "metadata": {},
   "outputs": [
    {
     "name": "stdout",
     "output_type": "stream",
     "text": [
      "         work_year         salary  salary_in_usd\n",
      "count  5341.000000    5341.000000    5341.000000\n",
      "mean   2022.682082  145814.937839  146258.409099\n",
      "std       0.608026   67025.469452   66594.117529\n",
      "min    2020.000000   14000.000000   15000.000000\n",
      "25%    2022.000000   97300.000000   98506.000000\n",
      "50%    2023.000000  140000.000000  140000.000000\n",
      "75%    2023.000000  186200.000000  186000.000000\n",
      "max    2023.000000  450000.000000  450000.000000\n"
     ]
    }
   ],
   "source": [
    "print(job_data.describe())"
   ]
  },
  {
   "cell_type": "markdown",
   "metadata": {},
   "source": [
    "Save cleaned dataset "
   ]
  },
  {
   "cell_type": "code",
   "execution_count": 47,
   "metadata": {},
   "outputs": [],
   "source": [
    "job_data.to_csv('Data/Cleaned_Dataset.csv', index=False)"
   ]
  }
 ],
 "metadata": {
  "kernelspec": {
   "display_name": "Python 3",
   "language": "python",
   "name": "python3"
  },
  "language_info": {
   "codemirror_mode": {
    "name": "ipython",
    "version": 3
   },
   "file_extension": ".py",
   "mimetype": "text/x-python",
   "name": "python",
   "nbconvert_exporter": "python",
   "pygments_lexer": "ipython3",
   "version": "3.11.6"
  }
 },
 "nbformat": 4,
 "nbformat_minor": 2
}
